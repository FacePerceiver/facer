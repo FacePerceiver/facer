version https://git-lfs.github.com/spec/v1
oid sha256:7d00c6eea913301ddcc1df1ec549c9050bcbf3335a4a5522d5024673da70b641
size 367129
