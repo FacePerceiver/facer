version https://git-lfs.github.com/spec/v1
oid sha256:9d2b2e964bfeeb57cc18acc043e01a124dd3931a58ab5263178fc8019a968177
size 429085
