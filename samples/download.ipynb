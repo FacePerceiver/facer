{
 "cells": [
  {
   "cell_type": "code",
   "execution_count": 5,
   "metadata": {},
   "outputs": [],
   "source": [
    "import sys\n",
    "sys.path.append('..')"
   ]
  },
  {
   "cell_type": "code",
   "execution_count": 6,
   "metadata": {},
   "outputs": [
    {
     "data": {
      "application/vnd.jupyter.widget-view+json": {
       "model_id": "03bf1e12ed8a4b4ebf4ee9c5acda4a4f",
       "version_major": 2,
       "version_minor": 0
      },
      "text/plain": [
       "  0%|          | 0.00/1.25k [00:00<?, ?B/s]"
      ]
     },
     "metadata": {},
     "output_type": "display_data"
    }
   ],
   "source": [
    "import facer\n",
    "facer.util.download_from_github(\n",
    "    to_path='.downloaded/download.ipynb', organisation='FacePerceiver',\n",
    "    repository='facer', file_path='samples/download.ipynb', branch='main')\n"
   ]
  }
 ],
 "metadata": {
  "interpreter": {
   "hash": "f55a4f7b5691d52d9535fa31bc30af4661bee88c7bc930914ceb21aeaa908798"
  },
  "kernelspec": {
   "display_name": "Python 3.8.12 ('haya38')",
   "language": "python",
   "name": "python3"
  },
  "language_info": {
   "codemirror_mode": {
    "name": "ipython",
    "version": 3
   },
   "file_extension": ".py",
   "mimetype": "text/x-python",
   "name": "python",
   "nbconvert_exporter": "python",
   "pygments_lexer": "ipython3",
   "version": "3.8.13"
  },
  "orig_nbformat": 4
 },
 "nbformat": 4,
 "nbformat_minor": 2
}
