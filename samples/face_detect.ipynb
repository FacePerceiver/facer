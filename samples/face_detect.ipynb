version https://git-lfs.github.com/spec/v1
oid sha256:175e19c97158e8ee76d76b87f79901b05cee551d6084028b95efafd8622e7e54
size 180496
