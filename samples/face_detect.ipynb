version https://git-lfs.github.com/spec/v1
oid sha256:a4e35316eb5a9449faccb34fdf366be1451e4716f9ad431a13ab57b199ff2e6b
size 180429
