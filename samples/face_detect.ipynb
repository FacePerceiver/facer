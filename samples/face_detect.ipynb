version https://git-lfs.github.com/spec/v1
oid sha256:34f556d2fff42f7ae1823153beb3af212df934b1465734fddfb8d78b34f3cba9
size 180332
